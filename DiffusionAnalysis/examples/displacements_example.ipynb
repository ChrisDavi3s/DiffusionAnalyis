{
 "cells": [
  {
   "cell_type": "code",
   "execution_count": null,
   "metadata": {},
   "outputs": [],
   "source": [
    "import sys\n",
    "import os\n",
    "import numpy as np\n"
   ]
  },
  {
   "cell_type": "code",
   "execution_count": null,
   "metadata": {},
   "outputs": [],
   "source": [
    "from DiffusionAnalysis.loaders import DatDirectoryStructureLoader\n",
    "from DiffusionAnalysis.analysis import TracerMSDAnalyser\n",
    "from DiffusionAnalysis.trajectory import DisplacementTrajectory\n",
    "\n",
    "\n"
   ]
  },
  {
   "cell_type": "code",
   "execution_count": null,
   "metadata": {},
   "outputs": [],
   "source": []
  },
  {
   "cell_type": "code",
   "execution_count": null,
   "metadata": {},
   "outputs": [],
   "source": [
    "# your_code.py\n",
    "from DiffusionAnalysis.examples.config import FILE_PATH_SECRET\n",
    "\n",
    "loader = DatDirectoryStructureLoader(FILE_PATH_SECRET, structures_slice=slice(2500, 5000, 1), md_timestep=0.1, md_time_unit='ps')"
   ]
  },
  {
   "cell_type": "markdown",
   "metadata": {},
   "source": []
  },
  {
   "cell_type": "code",
   "execution_count": null,
   "metadata": {},
   "outputs": [],
   "source": [
    "traj = DisplacementTrajectory(loader)"
   ]
  },
  {
   "cell_type": "code",
   "execution_count": null,
   "metadata": {},
   "outputs": [],
   "source": [
    "traj.generate_displacement_trajectory(show_progress=True)\n",
    "# # #save as a pickle (not implemented in the class)\n",
    "import pickle\n",
    "# with open('displacement_traj.pickle', 'wb') as f:\n",
    "#       pickle.dump(traj, f)\n",
    "\n",
    "#load the pickle\n",
    "with open('displacement_traj.pickle', 'rb') as f:\n",
    "    traj = pickle.load(f)\n",
    "    \n"
   ]
  },
  {
   "cell_type": "code",
   "execution_count": null,
   "metadata": {},
   "outputs": [],
   "source": [
    "msd_analysis = TracerMSDAnalyser(traj)\n",
    "\n",
    "# Assuming you have an instance of MSDAnalysis called 'msd_analysis'\n",
    "\n",
    "# Calculate the 3D MSD\n",
    "msd_3d = msd_analysis.calculate_msd(tracer_specs=['H'], return_3d_msd=True)\n",
    "\n",
    "msd_3d_framework = msd_analysis.calculate_msd(tracer_specs=['H'], framework_specs=['He'], correct_drift=True, return_3d_msd=True)\n",
    "fig1 = msd_analysis.plot_msd((msd_3d), title='3D MSD Plot (Drift Corrected)', legend_loc='upper left', skip_points=4)\n",
    "fig1_log = msd_analysis.plot_msd((msd_3d), title='3D MSD Plot (Log Scale) (Drift Corrected)', legend_loc='upper left', skip_points=4, log_scale=True)\n",
    "\n",
    "\n",
    "#plot 3d vs 3d framework drift corrected msd\n",
    "difference = msd_3d - msd_3d_framework\n",
    "fig1_diff = msd_analysis.plot_msd((difference), title='3D MSD vs 3D MSD (Drift Corrected) Error', legend_loc='upper left', skip_points=4)\n",
    "\n",
    "\n",
    "# Calculate the MSD for each direction (x, y, z)\n",
    "msd_x, msd_y, msd_z = msd_analysis.calculate_msd(tracer_specs=['H'],return_3d_msd=False)\n",
    "\n",
    "# Plot the MSD for each direction\n",
    "fig2 = msd_analysis.plot_msd((msd_x, msd_y, msd_z), labels=['x','y' ,'z'], title='X,Y,Z MSD Plot', legend_loc='upper left', skip_points=4)\n",
    "fig2.show()\n",
    "# Calculate and plot the MSD along a non-normalized lattice vector for host atoms, correcting for framework drift\n",
    "lattice_vector = np.array([2, 0, 0])  # Example non-normalized lattice vector\n",
    "msd_along_lattice = msd_analysis.calculate_msd(lattice_vector = lattice_vector)\n",
    "fig3 = msd_analysis.plot_msd(msd_along_lattice, labels=f'MSD Along Lattice Vector {lattice_vector}', title='MSD Along Lattice Vector [2,0,0] (Drift Uncorrected)', skip_points=4)\n",
    "fig3.show()\n"
   ]
  },
  {
   "cell_type": "code",
   "execution_count": null,
   "metadata": {},
   "outputs": [],
   "source": []
  },
  {
   "cell_type": "code",
   "execution_count": null,
   "metadata": {},
   "outputs": [],
   "source": [
    "from DiffusionAnalysis.analysis import VanHoveAnalyser\n",
    "import numpy as np\n",
    "import matplotlib.pyplot as plt\n",
    "\n",
    "\n",
    "# Create a VanHoveAnalysis object\n",
    "van_hove_analyzer = VanHoveAnalyser(traj)\n",
    "\n",
    "# Set the parameters for the analysis\n",
    "tau_values = [1, 5, 10, 500]  # Time lags in number of timesteps\n",
    "r_range = (0, 5)  # Range of distances to consider\n",
    "n_bins = 100  # Number of bins for the histogram\n",
    "\n",
    "self_data = []\n",
    "self_data = van_hove_analyzer.calculate_van_hove(tau_values, r_range, n_bins, mode='self',type_a_specs=['H'])\n",
    "\n",
    "self_fig = van_hove_analyzer.plot_van_hove(self_data, mode='self', title='Self-part of the Van Hove Correlation Function')\n",
    "\n",
    "import tracemalloc\n",
    "\n",
    "\n",
    "distinct_data = []\n",
    "distinct_data = van_hove_analyzer.calculate_van_hove(tau_values, r_range, n_bins, mode='distinct', type_a_specs=['H'], type_b_specs=['He'])\n",
    "\n",
    "# Plot the distinct-part of the van Hove correlation function\n",
    "distinct_fig = van_hove_analyzer.plot_van_hove(distinct_data, mode='distinct', title='Distinct-part of the Van Hove Correlation Function', include_normalization=True)\n"
   ]
  },
  {
   "cell_type": "code",
   "execution_count": null,
   "metadata": {},
   "outputs": [],
   "source": [
    "from DiffusionAnalysis.analysis import TMSDAnalyser\n",
    "\n",
    "# Create an instance of the tMSDAnalysis class\n",
    "tmsd_analysis = TMSDAnalyser(traj)\n",
    "\n",
    "# Define the minimum and maximum time lag values (in steps) and the number of points - start at 0\n",
    "tau_values = np.unique(np.logspace(0, 3.35, num=500, dtype=int))\n",
    "\n",
    "# Calculate tMSD\n",
    "time_lag_values, tMSD_values = tmsd_analysis.calculate_tMSD(tau_values, tracer_specs=['H'], framework_specs=['He','Li'], overlapping=True, correct_drift=True, use_3d=False, lattice_vector=[1,0,0])\n",
    "\n",
    "# Plot the tMSD data\n",
    "temperature = 500  # Example temperature value\n",
    "label = f'{temperature} K'\n",
    "fig = tmsd_analysis.plot_tMSD(time_lag_values, tMSD_values, label)\n",
    "\n",
    "fig2 = tmsd_analysis.plot_tMSD_exponent(time_lag_values, tMSD_values, label, window_size=1) \n",
    "\n",
    "\n"
   ]
  },
  {
   "cell_type": "markdown",
   "metadata": {},
   "source": []
  },
  {
   "cell_type": "code",
   "execution_count": null,
   "metadata": {},
   "outputs": [],
   "source": [
    "time_lags = [1, 100, 23]  # Example time lags\n",
    "num_bins = 40\n",
    "\n",
    "fig = msd_analysis.plot_displacement_distribution(tracer_specs=['H'],\n",
    "                                                  time_lags=time_lags,\n",
    "                                                  num_bins=num_bins, use_3d=False, lattice_vector=[1, 0, 0])\n",
    "fig.gca().set_xlim(-3, 3)\n",
    "\n",
    "fig = msd_analysis.plot_displacement_distribution(tracer_specs=['H'],\n",
    "                                                  time_lags=time_lags,\n",
    "                                                  num_bins=num_bins,\n",
    "                                                  use_3d=True,)\n",
    "\n",
    "fig.gca().set_xlim(0, 6)\n",
    "\n",
    "plt.show()"
   ]
  },
  {
   "cell_type": "code",
   "execution_count": null,
   "metadata": {},
   "outputs": [],
   "source": [
    "from DiffusionAnalysis.analysis import COMMSDAnalyser\n",
    "\n",
    "com_analysis = COMMSDAnalyser(traj)\n",
    "\n",
    "# Calculate the 3D COM MSD\n",
    "com_msd_3d_no_drift = com_analysis.calculate_com_msd(tracer_specs=['H'], framework_specs=['He','Li'], correct_drift=False, return_3d_msd=True)\n",
    "com_msd_3d = com_analysis.calculate_com_msd(tracer_specs=['H'], framework_specs=['He','Li'], correct_drift=True, return_3d_msd=True)\n",
    "\n",
    "\n",
    "fig1_log = com_analysis.plot_com_msd(com_msd_3d, title='3D COM MSD Plot (Log Scale) (Drift Corrected)', legend_loc='upper left', skip_points=1, log_scale=True)\n",
    "# plot the difference\n",
    "difference = com_msd_3d - com_msd_3d_no_drift\n",
    "fig1 = com_analysis.plot_com_msd(com_msd_3d, title='3D COM MSD Plot (Drift Corrected)', legend_loc='upper left', skip_points=1)\n",
    "\n",
    "fig1_diff = com_analysis.plot_com_msd(com_msd_3d_no_drift, title='3D COM MSD (Drift Uncorrected)', legend_loc='upper left', skip_points=1)\n",
    "# # Calculate the COM MSD for each direction (x, y, z)\n",
    "# com_msd_x, com_msd_y, com_msd_z = com_analysis.calculate_com_msd(species_specs=['H'], return_3d_msd=False)\n",
    "\n",
    "diff = com_msd_3d - com_msd_3d_no_drift\n",
    "fig2 = com_analysis.plot_com_displacement_distribution(tracer_specs=['H'],framework_specs=['He','Li'], correct_drift=True, time_lags=[1, 2, 3], num_bins=20, use_3d=True)\n",
    "fig2 = com_analysis.plot_com_displacement_distribution(tracer_specs=['H'],framework_specs=['He','Li'], correct_drift=True, time_lags=[1, 2, 3], num_bins=20, use_3d=False, lattice_vector=[1, 0, 0])\n",
    "\n",
    "\n"
   ]
  },
  {
   "cell_type": "code",
   "execution_count": null,
   "metadata": {},
   "outputs": [],
   "source": [
    "from DiffusionAnalysis.analysis import COMTMSDAnalyser\n",
    "\n",
    "com_msd_analysis = COMTMSDAnalyser(traj)\n",
    "\n",
    "# Assuming you have an instance of COMTMSDAnalyser called 'com_msd_analysis'\n",
    "\n",
    "# Calculate the 3D tMSD\n",
    "#logspace 1 to 1000 in 50 steps adn no repeats .. have to be ints\n",
    "#tau_values = np.unique(np.logspace(0, 3.1, num=100, dtype=int))\n",
    "tMSD_3d = com_msd_analysis.calculate_tMSD(tau_values=tau_values, tracer_specs=['H'],correct_drift = False, use_3d=True, overlapping=True)\n",
    "\n",
    "fig_uncorrected = com_msd_analysis.plot_tMSD(tMSD_3d[0], tMSD_3d[1], title='3D tMSD Plot (Drift Uncorrected)', legend_loc='upper left',label='500K' )\n",
    "tMSD_3d_framework = com_msd_analysis.calculate_tMSD(tau_values=tau_values, tracer_specs=['H'], framework_specs= ['He','Li'], correct_drift=True, use_3d=True, overlapping=True)\n",
    "\n",
    "fig1 = com_msd_analysis.plot_tMSD(tMSD_3d_framework[0], tMSD_3d_framework[1], title='3D tMSD Plot (Drift Corrected)', legend_loc='upper left',label='500K' )\n",
    "\n",
    "fig1_log = com_msd_analysis.plot_tMSD(tMSD_3d_framework[0], tMSD_3d_framework[1], title='3D tMSD Plot (Log Scale) (Drift Corrected)', legend_loc='upper left', log_scale=True, label='500K')\n",
    "\n",
    "fig_exponent = com_msd_analysis.plot_tMSD_exponent(tMSD_3d_framework[0], tMSD_3d_framework[1], label='500K', average_window_size=50)\n",
    "# Plot 3d vs 3d framework drift corrected tMSD\n",
    "difference = tMSD_3d[1] - tMSD_3d_framework[1]\n",
    "\n",
    "fig1_diff = com_msd_analysis.plot_tMSD(tMSD_3d[0], difference, title='3D tMSD vs 3D tMSD (Drift Corrected) Error', legend_loc='upper left', label='500K')\n",
    "\n",
    "# # Calculate the tMSD for each direction (x, y, z)\n",
    "# tMSD_x = com_msd_analysis.calculate_tMSD(tau_values=tau_values, tracer_specs=['H'], use_3d=False)\n",
    "# tMSD_y = com_msd_analysis.calculate_tMSD(tau_values=tau_values, tracer_specs=['H'], use_3d=False, lattice_vector=np.array([0, 1, 0]))\n",
    "# tMSD_z = com_msd_analysis.calculate_tMSD(tau_values=tau_values, tracer_specs=['H'], use_3d=False, lattice_vector=np.array([0, 0, 1]))\n",
    "\n",
    "# # Plot the tMSD for each direction\n",
    "# fig2 = com_msd_analysis.plot_tMSD(tMSD_x[0], tMSD_x[1], label='x', title='X,Y,Z tMSD Plot', legend_loc='upper left')\n",
    "# com_msd_analysis.plot_tMSD(tMSD_y[0], tMSD_y[1], label='y', fig=fig2)\n",
    "# com_msd_analysis.plot_tMSD(tMSD_z[0], tMSD_z[1], label='z', fig=fig2)\n",
    "\n",
    "# fig2.show()\n",
    "\n",
    "# # Calculate and plot the tMSD along a non-normalized lattice vector for host atoms, correcting for framework drift\n",
    "# lattice_vector = np.array([2, 0, 0])  # Example non-normalized lattice vector\n",
    "\n",
    "# tMSD_along_lattice = com_msd_analysis.calculate_tMSD(tau_values=tau_values, lattice_vector=lattice_vector)\n",
    "\n",
    "# fig3 = com_msd_analysis.plot_tMSD(tMSD_along_lattice[0], tMSD_along_lattice[1], label=f'tMSD Along Lattice Vector {lattice_vector}', title='tMSD Along Lattice Vector [2,0,0] (Drift Uncorrected)')\n",
    "\n",
    "# fig3.show()"
   ]
  },
  {
   "cell_type": "code",
   "execution_count": null,
   "metadata": {},
   "outputs": [],
   "source": [
    "num_H_atoms = len(traj.atom_indices_map.get_indices('H'))\n",
    "volume = traj.unique_lattice_vectors.volume * 1e-24  # Volume in cm^3\n",
    "print(volume)\n",
    "print(num_H_atoms)"
   ]
  },
  {
   "cell_type": "code",
   "execution_count": null,
   "metadata": {},
   "outputs": [],
   "source": [
    "from DiffusionAnalysis.analysis import DiffusionCoefficientAnalyser\n",
    "# convcert 0.1ps to seconds\n",
    "time_step = 10**-12\n",
    "com_diffusion_coefficient = DiffusionCoefficientAnalyser.calculate_com_diffusion_coefficient(tMSD_3d_framework[1], tMSD_3d_framework[0],step_size = time_step ,dimension=3, num_atoms=num_H_atoms)\n",
    "com_conductivity = DiffusionCoefficientAnalyser.calculate_conductivity(com_diffusion_coefficient, temperature=500, num_atoms=num_H_atoms, volume=volume)"
   ]
  },
  {
   "cell_type": "code",
   "execution_count": null,
   "metadata": {},
   "outputs": [],
   "source": [
    "# plot diffusion coefficient with log x and y scale\n",
    "plt.plot(tMSD_3d_framework[0]*10**-12, com_diffusion_coefficient)\n",
    "plt.xscale('log')\n",
    "plt.yscale('log')\n",
    "\n",
    "plt.show()\n",
    "plt.plot(tMSD_3d_framework[0]*10**-12,com_conductivity)\n",
    "plt.xscale('log')\n",
    "plt.yscale('log')\n",
    "print(com_conductivity[-1])"
   ]
  },
  {
   "cell_type": "code",
   "execution_count": null,
   "metadata": {},
   "outputs": [],
   "source": [
    "\n",
    "print(com_conductivity[-1])\n",
    "room_temp_conductivity = DiffusionCoefficientAnalyser.convert_conductivity_to_different_temperature(com_conductivity, activation_energy = 5.3e-20, temperature = 500, new_temperature=273)\n",
    "\n",
    "plt.plot(tMSD_3d_framework[0]*10**-12,room_temp_conductivity)\n",
    "plt.xscale('log')\n",
    "plt.yscale('log')\n",
    "\n",
    "print(room_temp_conductivity[-1])\n",
    "#print last 10 tau values\n",
    "print(tau_values[-10:])"
   ]
  },
  {
   "cell_type": "code",
   "execution_count": null,
   "metadata": {},
   "outputs": [],
   "source": [
    "tau_values = np.unique(np.logspace(0, 3.3, num=100, dtype=int))\n",
    "print(tau_values[-10:])"
   ]
  }
 ],
 "metadata": {
  "kernelspec": {
   "display_name": "chemenv",
   "language": "python",
   "name": "python3"
  },
  "language_info": {
   "codemirror_mode": {
    "name": "ipython",
    "version": 3
   },
   "file_extension": ".py",
   "mimetype": "text/x-python",
   "name": "python",
   "nbconvert_exporter": "python",
   "pygments_lexer": "ipython3",
   "version": "3.11.8"
  }
 },
 "nbformat": 4,
 "nbformat_minor": 2
}
