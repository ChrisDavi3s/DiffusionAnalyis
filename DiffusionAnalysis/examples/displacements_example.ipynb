{
 "cells": [
  {
   "cell_type": "code",
   "execution_count": null,
   "metadata": {},
   "outputs": [],
   "source": [
    "import sys\n",
    "import os\n",
    "import numpy as np\n"
   ]
  },
  {
   "cell_type": "code",
   "execution_count": null,
   "metadata": {},
   "outputs": [],
   "source": [
    "from DiffusionAnalysis.loaders import DatDirectoryStructureLoader\n",
    "from DiffusionAnalysis.analysis import TracerMSDAnalyser\n",
    "from DiffusionAnalysis.trajectory import DisplacementTrajectory\n",
    "\n",
    "\n"
   ]
  },
  {
   "cell_type": "code",
   "execution_count": null,
   "metadata": {},
   "outputs": [],
   "source": [
    "# your_code.py\n",
    "from DiffusionAnalysis.examples.config import FILE_PATH_SECRET\n",
    "\n",
    "loader = DatDirectoryStructureLoader(FILE_PATH_SECRET, structures_slice=slice(2500, 4000, 1), md_timestep=0.1, md_time_unit='ps')"
   ]
  },
  {
   "cell_type": "markdown",
   "metadata": {},
   "source": []
  },
  {
   "cell_type": "code",
   "execution_count": null,
   "metadata": {},
   "outputs": [],
   "source": [
    "traj = DisplacementTrajectory(loader)"
   ]
  },
  {
   "cell_type": "code",
   "execution_count": null,
   "metadata": {},
   "outputs": [],
   "source": [
    "# traj.generate_displacement_trajectory(show_progress=True)\n",
    "# # #save as a pickle (not implemented in the class)\n",
    "import pickle\n",
    "# with open('displacement_traj.pickle', 'wb') as f:\n",
    "#      pickle.dump(traj, f)\n",
    "\n",
    "#load the pickle\n",
    "with open('displacement_traj.pickle', 'rb') as f:\n",
    "    traj = pickle.load(f)\n",
    "    \n"
   ]
  },
  {
   "cell_type": "code",
   "execution_count": null,
   "metadata": {},
   "outputs": [],
   "source": [
    "msd_analysis = TracerMSDAnalyser(traj)\n",
    "\n",
    "# Assuming you have an instance of MSDAnalysis called 'msd_analysis'\n",
    "\n",
    "# Calculate the 3D MSD\n",
    "msd_3d = msd_analysis.calculate_msd(tracer_specs=['H'], return_3d_msd=True)\n",
    "\n",
    "msd_3d_framework = msd_analysis.calculate_msd(tracer_specs=['H'], framework_specs=['He'], correct_drift=True, return_3d_msd=True)\n",
    "fig1 = msd_analysis.plot_msd((msd_3d), title='3D MSD Plot (Drift Corrected)', legend_loc='upper left', skip_points=4)\n",
    "fig1_log = msd_analysis.plot_msd((msd_3d), title='3D MSD Plot (Log Scale) (Drift Corrected)', legend_loc='upper left', skip_points=4, log_scale=True)\n",
    "\n",
    "\n",
    "#plot 3d vs 3d framework drift corrected msd\n",
    "difference = msd_3d - msd_3d_framework\n",
    "fig1_diff = msd_analysis.plot_msd((difference), title='3D MSD vs 3D MSD (Drift Corrected) Error', legend_loc='upper left', skip_points=4)\n",
    "\n",
    "\n",
    "# Calculate the MSD for each direction (x, y, z)\n",
    "msd_x, msd_y, msd_z = msd_analysis.calculate_msd(tracer_specs=['H'],return_3d_msd=False)\n",
    "\n",
    "# Plot the MSD for each direction\n",
    "fig2 = msd_analysis.plot_msd((msd_x, msd_y, msd_z), labels=['x','y' ,'z'], title='X,Y,Z MSD Plot', legend_loc='upper left', skip_points=4)\n",
    "fig2.show()\n",
    "# Calculate and plot the MSD along a non-normalized lattice vector for host atoms, correcting for framework drift\n",
    "lattice_vector = np.array([2, 0, 0])  # Example non-normalized lattice vector\n",
    "msd_along_lattice = msd_analysis.calculate_msd(lattice_vector = lattice_vector)\n",
    "fig3 = msd_analysis.plot_msd(msd_along_lattice, labels=f'MSD Along Lattice Vector {lattice_vector}', title='MSD Along Lattice Vector [2,0,0] (Drift Uncorrected)', skip_points=4)\n",
    "fig3.show()\n"
   ]
  },
  {
   "cell_type": "code",
   "execution_count": null,
   "metadata": {},
   "outputs": [],
   "source": []
  },
  {
   "cell_type": "code",
   "execution_count": null,
   "metadata": {},
   "outputs": [],
   "source": [
    "from DiffusionAnalysis.analysis import VanHoveAnalyser\n",
    "import numpy as np\n",
    "import matplotlib.pyplot as plt\n",
    "\n",
    "\n",
    "# Create a VanHoveAnalysis object\n",
    "van_hove_analyzer = VanHoveAnalyser(traj)\n",
    "\n",
    "# Set the parameters for the analysis\n",
    "tau_values = [1, 5, 10, 500]  # Time lags in number of timesteps\n",
    "r_range = (0, 5)  # Range of distances to consider\n",
    "n_bins = 100  # Number of bins for the histogram\n",
    "\n",
    "self_data = []\n",
    "self_data = van_hove_analyzer.calculate_van_hove(tau_values, r_range, n_bins, mode='self',type_a_specs=['H'])\n",
    "\n",
    "self_fig = van_hove_analyzer.plot_van_hove(self_data, mode='self', title='Self-part of the Van Hove Correlation Function')\n",
    "\n",
    "import tracemalloc\n",
    "\n",
    "\n",
    "distinct_data = []\n",
    "distinct_data = van_hove_analyzer.calculate_van_hove(tau_values, r_range, n_bins, mode='distinct', type_a_specs=['H'], type_b_specs=['He'])\n",
    "\n",
    "# Plot the distinct-part of the van Hove correlation function\n",
    "distinct_fig = van_hove_analyzer.plot_van_hove(distinct_data, mode='distinct', title='Distinct-part of the Van Hove Correlation Function', include_normalization=True)\n"
   ]
  },
  {
   "cell_type": "code",
   "execution_count": null,
   "metadata": {},
   "outputs": [],
   "source": [
    "from DiffusionAnalysis.analysis import TMSDAnalyser\n",
    "\n",
    "# Create an instance of the tMSDAnalysis class\n",
    "tmsd_analysis = TMSDAnalyser(traj)\n",
    "\n",
    "# Define the minimum and maximum time lag values (in steps) and the number of points\n",
    "min_tau = 1\n",
    "max_tau = 1000\n",
    "num_points = 100\n",
    "\n",
    "# Calculate tMSD\n",
    "time_lag_values, tMSD_values = tmsd_analysis.calculate_tMSD(min_tau, max_tau, num_points)\n",
    "\n",
    "# Plot the tMSD data\n",
    "temperature = 500  # Example temperature value\n",
    "label = f'{temperature} K'\n",
    "fig = tmsd_analysis.plot_tMSD(time_lag_values, tMSD_values, label)\n",
    "\n",
    "fig2 = tmsd_analysis.plot_tMSD_exponent(time_lag_values, tMSD_values, label, average_window_size=3) \n",
    "\n",
    "\n"
   ]
  },
  {
   "cell_type": "markdown",
   "metadata": {},
   "source": []
  },
  {
   "cell_type": "code",
   "execution_count": null,
   "metadata": {},
   "outputs": [],
   "source": [
    "time_lags = [1, 100,500]  # Example time lags\n",
    "num_bins = 150\n",
    "\n",
    "fig = msd_analysis.plot_displacement_distribution(tracer_specs=['H'],\n",
    "                                                  time_lags=time_lags,\n",
    "                                                  num_bins=num_bins, use_3d=False, lattice_vector=[1, 0, 0])\n",
    "fig.gca().set_xlim(-3, 3)\n",
    "\n",
    "fig = msd_analysis.plot_displacement_distribution(tracer_specs=['H'],\n",
    "                                                  time_lags=time_lags,\n",
    "                                                  num_bins=num_bins,\n",
    "                                                  use_3d=True,)\n",
    "\n",
    "fig.gca().set_xlim(0, 6)\n",
    "\n",
    "plt.show()"
   ]
  }
 ],
 "metadata": {
  "kernelspec": {
   "display_name": "chemenv",
   "language": "python",
   "name": "python3"
  },
  "language_info": {
   "codemirror_mode": {
    "name": "ipython",
    "version": 3
   },
   "file_extension": ".py",
   "mimetype": "text/x-python",
   "name": "python",
   "nbconvert_exporter": "python",
   "pygments_lexer": "ipython3",
   "version": "3.11.8"
  }
 },
 "nbformat": 4,
 "nbformat_minor": 2
}
