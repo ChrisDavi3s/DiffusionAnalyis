{
 "cells": [
  {
   "cell_type": "code",
   "execution_count": null,
   "metadata": {},
   "outputs": [],
   "source": [
    "import sys\n",
    "import os\n",
    "import numpy as np"
   ]
  },
  {
   "cell_type": "code",
   "execution_count": null,
   "metadata": {},
   "outputs": [],
   "source": []
  },
  {
   "cell_type": "code",
   "execution_count": null,
   "metadata": {},
   "outputs": [],
   "source": [
    "from DiffusionAnalysis.loaders import DatDirectoryStructureLoader\n",
    "from DiffusionAnalysis.trajectory import DisplacementTrajectory\n",
    "from DiffusionAnalysis.analysis import MSDAnalysis\n"
   ]
  },
  {
   "cell_type": "code",
   "execution_count": null,
   "metadata": {},
   "outputs": [],
   "source": [
    "loader = DatDirectoryStructureLoader('dat_directory', structures_slice=slice(0,1000))"
   ]
  },
  {
   "cell_type": "code",
   "execution_count": null,
   "metadata": {},
   "outputs": [],
   "source": [
    "# traj = DisplacementTrajectory(loader, timestep=0.1, time_unit='ps' )"
   ]
  },
  {
   "cell_type": "code",
   "execution_count": null,
   "metadata": {},
   "outputs": [],
   "source": [
    "# traj.generate_displacement_trajectory(host_atoms=['H'], show_progress=True)\n",
    "# # #save as a pickle (not implemented in the class)\n",
    "import pickle\n",
    "# with open('displacement_traj.pickle', 'wb') as f:\n",
    "#     pickle.dump(traj, f)\n",
    "\n",
    "#load the pickle\n",
    "with open('displacement_traj.pickle', 'rb') as f:\n",
    "    traj = pickle.load(f)\n",
    "    \n"
   ]
  },
  {
   "cell_type": "code",
   "execution_count": null,
   "metadata": {},
   "outputs": [],
   "source": [
    "print(traj.displacement_trajectory[0,:,:])\n",
    "\n",
    "#sum each timestep to get total displacement\n",
    "total_displacement = traj.displacement_trajectory.sum(axis=1)\n",
    "print(total_displacement[0])\n",
    "\n",
    "#print the traj.displacement_trajectory nbytes in mb\n",
    "print(traj.displacement_trajectory.nbytes/1e6)\n",
    "print(traj._check_memory_usage())\n"
   ]
  },
  {
   "cell_type": "code",
   "execution_count": null,
   "metadata": {},
   "outputs": [],
   "source": [
    "loader.reset()\n",
    "\n",
    "atoms0 = next(loader)\n",
    "for i in range(8):\n",
    "    atoms2 = next(loader)\n",
    "\n",
    "atoms10 = next(loader)\n",
    "\n",
    "print(atoms0.get_scaled_positions()[0])\n",
    "print(atoms10.get_scaled_positions()[0])\n",
    "\n",
    "print(atoms10.get_scaled_positions()[0]- atoms0.get_scaled_positions()[0] )\n",
    "\n",
    "print(traj.displacement_trajectory.shape)"
   ]
  },
  {
   "cell_type": "code",
   "execution_count": null,
   "metadata": {},
   "outputs": [],
   "source": [
    "msd_analysis = MSDAnalysis(traj)\n",
    "\n",
    "# Assuming you have an instance of MSDAnalysis called 'msd_analysis'\n",
    "\n",
    "# Calculate the 3D MSD\n",
    "msd_3d = msd_analysis.calculate_msd(return_3d_msd=True)\n",
    "fig1 = msd_analysis.plot_msd((msd_3d), title='MSD Plot', legend_loc='upper left', skip_points=4)\n",
    "fig1_log = msd_analysis.plot_msd((msd_3d), title='MSD Plot (Log Scale)', legend_loc='upper left', skip_points=4, log_scale=True)\n",
    "\n",
    "\n",
    "# Calculate the MSD for each direction (x, y, z)\n",
    "msd_x, msd_y, msd_z = msd_analysis.calculate_msd(return_3d_msd=False)\n",
    "\n",
    "# Plot the MSD for each direction\n",
    "fig2 = msd_analysis.plot_msd((msd_x, msd_y, msd_z), labels=['x','y' ,'z'], title='MSD Plot', legend_loc='upper left', skip_points=4)\n",
    "fig2.show()\n",
    "# Calculate and plot the MSD along a non-normalized lattice vector for host atoms, correcting for framework drift\n",
    "lattice_vector = np.array([2, 0, 0])  # Example non-normalized lattice vector\n",
    "msd_along_lattice = msd_analysis.calculate_msd(lattice_vector = lattice_vector)\n",
    "fig3 = msd_analysis.plot_msd(msd_along_lattice, labels=f'MSD Along Lattice Vector {lattice_vector}', title='MSD Along Lattice Vector (Drift Uncorrected)', skip_points=4)\n",
    "fig3.show()\n"
   ]
  },
  {
   "cell_type": "code",
   "execution_count": null,
   "metadata": {},
   "outputs": [],
   "source": [
    "from DiffusionAnalysis.analysis import VanHoveAnalysis\n",
    "import numpy as np\n",
    "import matplotlib.pyplot as plt\n",
    "\n",
    "\n",
    "# Create a VanHoveAnalysis object\n",
    "van_hove_analyzer = VanHoveAnalysis(traj)\n",
    "\n",
    "# Set the parameters for the analysis\n",
    "tau_values = [1, 5, 10, 100, 500]  # Time lags in number of timesteps\n",
    "r_range = (0, 10)  # Range of distances to consider\n",
    "n_bins = 100  # Number of bins for the histogram\n",
    "\n",
    "self_data = []\n",
    "for tau in tau_values:\n",
    "    bin_centers, hist = van_hove_analyzer.calculate_van_hove(tau, r_range, n_bins,\n",
    "                                                             mode='self', )\n",
    "    self_data.append((bin_centers, hist, tau))\n",
    "\n",
    "# Plot the self-part of the van Hove correlation function\n",
    "self_fig = van_hove_analyzer.plot_van_hove(self_data, mode='self', title='Self-part of the Van Hove Correlation Function')\n",
    "plt.show()\n",
    "\n",
    "distinct_data = []\n",
    "for tau in tau_values:\n",
    "    bin_centers_distinct, hist_distinct = van_hove_analyzer.calculate_van_hove(tau, r_range, n_bins, mode='distinct')\n",
    "    distinct_data.append((bin_centers_distinct, hist_distinct, tau))\n",
    "\n",
    "# Plot the distinct-part of the van Hove correlation function\n",
    "distinct_fig = van_hove_analyzer.plot_van_hove(distinct_data, mode='distinct', title='Distinct-part of the Van Hove Correlation Function')\n",
    "plt.show()\n"
   ]
  },
  {
   "cell_type": "code",
   "execution_count": null,
   "metadata": {},
   "outputs": [],
   "source": [
    "from DiffusionAnalysis.analysis import tMSDAnalysis\n",
    "\n",
    "# Create an instance of the tMSDAnalysis class\n",
    "tmsd_analysis = tMSDAnalysis(traj)\n",
    "\n",
    "# Define the minimum and maximum time lag values (in steps) and the number of points\n",
    "min_tau = 1\n",
    "max_tau = 1000\n",
    "num_points = 100\n",
    "\n",
    "# Calculate tMSD\n",
    "time_lag_values, tMSD_values = tmsd_analysis.calculate_tMSD(min_tau, max_tau, num_points)\n",
    "\n",
    "# Plot the tMSD data\n",
    "temperature = 500  # Example temperature value\n",
    "label = f'{temperature} K'\n",
    "fig = tmsd_analysis.plot_tMSD(time_lag_values, tMSD_values, label)\n",
    "\n",
    "fig2 = tmsd_analysis.plot_tMSD_exponent(time_lag_values, tMSD_values, label, average_window_size=3) \n",
    "\n",
    "\n"
   ]
  },
  {
   "cell_type": "markdown",
   "metadata": {},
   "source": []
  },
  {
   "cell_type": "code",
   "execution_count": null,
   "metadata": {},
   "outputs": [],
   "source": [
    "from matplotlib import pyplot as plt\n",
    "\n",
    "# Set the parameters\n",
    "time_lags = [1, 10, 100]  # Example time lags\n",
    "num_bins = 100\n",
    "lattice_vector = np.array([1, 0, 0])  # Example lattice vector\n",
    "time_unit = traj.time_unit.value\n",
    "time_step = traj.timestep\n",
    "\n",
    "# Create a figure with two subplots\n",
    "fig, (ax1, ax2) = plt.subplots(1, 2, figsize=(12, 5))\n",
    "\n",
    "# Plot the probability distribution along the lattice vector\n",
    "for time_lag in time_lags:\n",
    "    # Calculate the displacement distribution along the lattice vector\n",
    "    bin_centers, hist = msd_analysis.calculate_displacement_distribution(time_lag=time_lag, num_bins=num_bins,\n",
    "                                                                         use_3d=False, lattice_vector=lattice_vector)\n",
    "\n",
    "    # Plot the distribution\n",
    "    ax1.plot(bin_centers, hist, label=f\"Time lag: {time_lag*time_step} ({time_unit})\")\n",
    "\n",
    "# Set the axis labels and title for the lattice vector plot\n",
    "ax1.set_xlabel(f\"Displacement along Lattice Vector\")\n",
    "ax1.set_ylabel(r\"Probability\")\n",
    "ax1.set_title(\"Probability Distribution of Displacement along Lattice Vector\")\n",
    "ax1.legend(loc='best')\n",
    "ax1.set_xlim(-1.5,1.5)\n",
    "\n",
    "# Plot the probability distribution of the total 3D displacement\n",
    "for time_lag in time_lags:\n",
    "    # Calculate the displacement distribution in 3D\n",
    "    bin_centers, hist = msd_analysis.calculate_displacement_distribution(time_lag=time_lag, num_bins=num_bins,\n",
    "                                                                         use_3d=True)\n",
    "\n",
    "    # Plot the distribution\n",
    "    ax2.plot(bin_centers, hist, label=f\"Time lag: {time_lag*time_step} ({time_unit})\")\n",
    "\n",
    "# Set the axis labels and title for the 3D displacement plot\n",
    "ax2.set_xlabel(f\"3D Displacement\")\n",
    "ax2.set_ylabel(r\"Probability\")\n",
    "ax2.set_title(\"Probability Distribution of Total 3D Displacement\")\n",
    "ax2.legend(loc='best')\n",
    "ax2.set_xlim(0,3)\n",
    "\n",
    "\n",
    "# Adjust the spacing between subplots\n",
    "plt.tight_layout()\n",
    "\n",
    "# Display the plot\n",
    "plt.show()"
   ]
  }
 ],
 "metadata": {
  "kernelspec": {
   "display_name": "chemenv",
   "language": "python",
   "name": "python3"
  },
  "language_info": {
   "codemirror_mode": {
    "name": "ipython",
    "version": 3
   },
   "file_extension": ".py",
   "mimetype": "text/x-python",
   "name": "python",
   "nbconvert_exporter": "python",
   "pygments_lexer": "ipython3",
   "version": "3.11.8"
  }
 },
 "nbformat": 4,
 "nbformat_minor": 2
}
