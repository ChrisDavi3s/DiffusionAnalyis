{
 "cells": [
  {
   "cell_type": "code",
   "execution_count": null,
   "metadata": {},
   "outputs": [],
   "source": [
    "from DiffusionAnalysis.loaders import DatDirectoryStructureLoader\n",
    "from DiffusionAnalysis.trajectory import PositionTrajectory\n",
    "from DiffusionAnalysis.analysis import RDFAnalysis\n",
    "from .config import FILE_PATH_SECRET\n",
    "\n",
    "loader = DatDirectoryStructureLoader(FILE_PATH_SECRET, structures_slice=slice(0,10,1))\n",
    "atoms = next(loader)\n",
    "print(loader.get_total_steps())"
   ]
  },
  {
   "cell_type": "code",
   "execution_count": null,
   "metadata": {},
   "outputs": [],
   "source": [
    "traj = PositionTrajectory(loader, timestep=0.1, max_memory=1400)\n",
    "\n",
    "traj.generate_position_trajectory(show_progress=True)"
   ]
  },
  {
   "cell_type": "markdown",
   "metadata": {},
   "source": []
  },
  {
   "cell_type": "code",
   "execution_count": null,
   "metadata": {},
   "outputs": [],
   "source": [
    "rmsd_analyer = RDFAnalysis(traj)\n",
    "\n"
   ]
  },
  {
   "cell_type": "code",
   "execution_count": null,
   "metadata": {},
   "outputs": [],
   "source": [
    "bin_centers, rdf = rmsd_analyer.calculate_rdf(atom_type_1=['H'], r_range=(0, 7), num_bins=200, frame_indices=[0,1,9], average=False)"
   ]
  },
  {
   "cell_type": "code",
   "execution_count": null,
   "metadata": {},
   "outputs": [],
   "source": [
    "fig = rmsd_analyer.plot_rdf((bin_centers, rdf))\n",
    "fig.axes[0].set_xlim(1, 7)\n",
    "#no grid\n",
    "fig.axes[0].grid(False)"
   ]
  }
 ],
 "metadata": {
  "kernelspec": {
   "display_name": "base",
   "language": "python",
   "name": "python3"
  },
  "language_info": {
   "codemirror_mode": {
    "name": "ipython",
    "version": 3
   },
   "file_extension": ".py",
   "mimetype": "text/x-python",
   "name": "python",
   "nbconvert_exporter": "python",
   "pygments_lexer": "ipython3",
   "version": "3.11.8"
  }
 },
 "nbformat": 4,
 "nbformat_minor": 2
}
